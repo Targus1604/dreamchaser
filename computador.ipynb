{
 "cells": [
  {
   "cell_type": "markdown",
   "metadata": {},
   "source": [
    "# Construccion del computador Dreamchaser\n"
   ]
  },
  {
   "cell_type": "markdown",
   "metadata": {},
   "source": [
    "## Preprocesador\n",
    "Se encarga de leer el archivo de entrada y procesarlo para que el compilador pueda entenderlo.\n",
    "Elimina los comentarios y los espacios en blanco innecesarios."
   ]
  },
  {
   "cell_type": "code",
   "execution_count": 1,
   "metadata": {},
   "outputs": [
    {
     "name": "stdout",
     "output_type": "stream",
     "text": [
      "a = 0\n",
      "calcular = verdadero\n",
      "si calcular\n",
      "    a = 3.141592654 * a\n",
      "sino a == 3\n",
      "    a = 2.718281828\n",
      "\n"
     ]
    }
   ],
   "source": [
    "import re\n",
    "\n",
    "constantes = {}\n",
    "def reemplazarConstantes(match):\n",
    "    constante = match.group(0)\n",
    "    return constantes.get(constante)\n",
    "\n",
    "\n",
    "def preprocesarCodigo(codigoFuente):\n",
    "    # Reeemplazar las constantes definidas y elimina la linea donde se definieron\n",
    "\n",
    "    # Itera sobre las lineas donde se definen las constantes y guarda su nombre y valor\n",
    "    for match in re.finditer(r\"const (\\w+) = ([^\\n]+)\", codigoFuente):\n",
    "        nombreConstante = match.group(1)\n",
    "        valorConstante = match.group(2)\n",
    "        constantes[nombreConstante] = valorConstante\n",
    "\n",
    "    # Eliminar la línea donde se define el const\n",
    "    codigoFuente = re.sub(r\"const \\w+ = [^\\n]+\\n\", \"\", codigoFuente)\n",
    "    pattern = rf\"\\b({'|'.join(re.escape(key) for key in constantes.keys())})\\b\"\n",
    "    # pattern = \\b(PI|E)\\b <- output de ejemplo\n",
    "\n",
    "    # Reemplazar las constantes por su valor\n",
    "    codigoFuente = re.sub(pattern, reemplazarConstantes, codigoFuente)\n",
    "\n",
    "    # Eliminar cualquier línea en blanco inicial\n",
    "    codigoFuente = codigoFuente.lstrip()\n",
    "    # Eliminar lineas en blanco en general\n",
    "    codigoFuente = re.sub(r\"\\n+\", \"\\n\", codigoFuente)\n",
    "    # Eliminar comentarios\n",
    "    codigoFuente = re.sub(r\"#.*\", \"\", codigoFuente)\n",
    "    # Eliminar espacios en blanco al final de la linea\n",
    "    codigoFuente = re.sub(r\"[ \\t]+$\", \"\", codigoFuente, flags=re.MULTILINE)\n",
    "\n",
    "    return codigoFuente\n",
    "\n",
    "\n",
    "# Código de prueba\n",
    "programa = \"\"\"\n",
    "const PI = 3.141592654\n",
    "\n",
    "const E = 2.718281828\n",
    "a = 0\n",
    "calcular = verdadero\n",
    "\n",
    "si calcular # Esto es un comentario\n",
    "    a = PI * a # Se va a eliminar\n",
    "sino a == 3\n",
    "    a = E\n",
    "\"\"\"\n",
    "\n",
    "codigoPrueba = preprocesarCodigo(programa)\n",
    "print(codigoPrueba)"
   ]
  },
  {
   "cell_type": "markdown",
   "metadata": {},
   "source": [
    "## Análisis Léxico\n",
    "Definiendo lenguaje de alto nivel a utilizar. \n",
    "\n",
    "Empezaremos definiendo las estructuras a usar y cómo se reconocen las mismas con expresiones regulares. Por ejemplo, para reconocer:\n",
    "\n",
    "A = 4\n",
    "B = 2\n",
    "\n",
    "Necesitamos las expresiones regulares que reconozcan identificadores, operadores y valores\n",
    "\n",
    "Identificadores (Empiezan con letra o guión bajo y mínimo 1 carácter): [a-zA-Z_][a-zA-Z0-9_]  \n",
    "Operadores: [+\\-*/=]\n",
    "Valores:\n"
   ]
  }
 ],
 "metadata": {
  "kernelspec": {
   "display_name": "Python 3",
   "language": "python",
   "name": "python3"
  },
  "language_info": {
   "codemirror_mode": {
    "name": "ipython",
    "version": 3
   },
   "file_extension": ".py",
   "mimetype": "text/x-python",
   "name": "python",
   "nbconvert_exporter": "python",
   "pygments_lexer": "ipython3",
   "version": "3.12.6"
  }
 },
 "nbformat": 4,
 "nbformat_minor": 2
}
