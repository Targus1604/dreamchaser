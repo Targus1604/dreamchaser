{
 "cells": [
  {
   "cell_type": "markdown",
   "metadata": {},
   "source": [
    "# Construccion del computador Dreamchaser\n"
   ]
  },
  {
   "cell_type": "markdown",
   "metadata": {},
   "source": [
    "## Preprocesador\n",
    "Se encarga de leer el archivo de entrada y procesarlo para que el compilador pueda entenderlo.\n",
    "Elimina los comentarios y los espacios en blanco innecesarios."
   ]
  },
  {
   "cell_type": "markdown",
   "metadata": {},
   "source": [
    "## Análisis Léxico\n",
    "Definiendo lenguaje de alto nivel a utilizar. \n",
    "\n",
    "Empezaremos definiendo las estructuras a usar y cómo se reconocen las mismas con expresiones regulares. Por ejemplo, para reconocer:\n",
    "\n",
    "A = 4\n",
    "B = 2\n",
    "\n",
    "Necesitamos las expresiones regulares que reconozcan identificadores, operadores y valores\n",
    "\n",
    "Identificadores (Empiezan con letra o guión bajo y mínimo 1 carácter): [a-zA-Z_][a-zA-Z0-9_]  \n",
    "Operadores: [+\\-*/=]\n",
    "Valores:\n"
   ]
  }
 ],
 "metadata": {
  "language_info": {
   "name": "python"
  }
 },
 "nbformat": 4,
 "nbformat_minor": 2
}
