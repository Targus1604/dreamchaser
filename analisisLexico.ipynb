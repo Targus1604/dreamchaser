{
 "cells": [
  {
   "cell_type": "markdown",
   "metadata": {},
   "source": [
    "Definiendo lenguaje de alto nivel a utilizar. \n",
    "Empezaremos definiendo las estructuras a usar y cómo se reconocen las mismas con expresiones regulares. Por ejemplo, para reconocer:\n",
    "\n",
    "A = 4\n",
    "B = 2\n",
    "\n",
    "Necesitamos las expresiones regulares que reconozcan identificadores, operadores y valores\n",
    "\n",
    "Identificadores (Empiezan con letra o _ y mínimo 1 carácter): [a-zA-Z_][a-zA-Z0-9_]  \n",
    "Operadores: [+\\-*/=]\n",
    "Valores:"
   ]
  }
 ],
 "metadata": {
  "language_info": {
   "name": "python"
  }
 },
 "nbformat": 4,
 "nbformat_minor": 2
}
